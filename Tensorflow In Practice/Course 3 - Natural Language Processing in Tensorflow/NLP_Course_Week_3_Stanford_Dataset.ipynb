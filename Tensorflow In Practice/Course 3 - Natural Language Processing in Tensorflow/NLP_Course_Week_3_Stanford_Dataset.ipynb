{
  "nbformat": 4,
  "nbformat_minor": 0,
  "metadata": {
    "accelerator": "GPU",
    "colab": {
      "name": "NLP Course Week 3 Stanford Dataset.ipynb",
      "provenance": [],
      "collapsed_sections": [],
      "toc_visible": true
    },
    "kernelspec": {
      "display_name": "Python 3",
      "language": "python",
      "name": "python3"
    },
    "language_info": {
      "codemirror_mode": {
        "name": "ipython",
        "version": 3
      },
      "file_extension": ".py",
      "mimetype": "text/x-python",
      "name": "python",
      "nbconvert_exporter": "python",
      "pygments_lexer": "ipython3",
      "version": "3.7.2"
    }
  },
  "cells": [
    {
      "cell_type": "code",
      "metadata": {
        "colab_type": "code",
        "id": "hmA6EzkQJ5jt",
        "colab": {}
      },
      "source": [
        "import json\n",
        "import tensorflow as tf\n",
        "import csv\n",
        "import random\n",
        "import numpy as np\n",
        "\n",
        "from tensorflow.keras.preprocessing.text import Tokenizer\n",
        "from tensorflow.keras.preprocessing.sequence import pad_sequences\n",
        "from tensorflow.keras.utils import to_categorical\n",
        "from tensorflow.keras import regularizers\n",
        "\n",
        "\n",
        "embedding_dim = 100\n",
        "max_length = 16\n",
        "trunc_type='post'\n",
        "padding_type='post'\n",
        "oov_tok = \"<OOV>\"\n",
        "training_size=160000\n",
        "test_portion=.1\n",
        "\n",
        "corpus = []\n"
      ],
      "execution_count": 0,
      "outputs": []
    },
    {
      "cell_type": "code",
      "metadata": {
        "colab_type": "code",
        "id": "bM0l_dORKqE0",
        "outputId": "b2ff79f6-76e5-4ade-a38a-31d6a1a5ff22",
        "colab": {
          "base_uri": "https://localhost:8080/",
          "height": 202
        }
      },
      "source": [
        "# Note that I cleaned the Stanford dataset to remove LATIN1 encoding to make it easier for Python CSV reader\n",
        "# You can do that yourself with:\n",
        "# iconv -f LATIN1 -t UTF8 training.1600000.processed.noemoticon.csv -o training_cleaned.csv\n",
        "# I then hosted it on my site to make it easier to use in this notebook\n",
        "\n",
        "!wget --no-check-certificate \\\n",
        "    https://storage.googleapis.com/laurencemoroney-blog.appspot.com/training_cleaned.csv \\\n",
        "    -O /tmp/training_cleaned.csv\n",
        "\n",
        "num_sentences = 0\n",
        "\n",
        "with open(\"/tmp/training_cleaned.csv\") as csvfile:\n",
        "    reader = csv.reader(csvfile, delimiter=',')\n",
        "    for row in reader:\n",
        "        list_item=[]\n",
        "        list_item.append(row[5])\n",
        "        this_label=row[0]\n",
        "        if this_label=='0':\n",
        "            list_item.append(0)\n",
        "        else:\n",
        "            list_item.append(1)\n",
        "        num_sentences = num_sentences + 1\n",
        "        corpus.append(list_item)\n"
      ],
      "execution_count": 10,
      "outputs": [
        {
          "output_type": "stream",
          "text": [
            "--2020-06-12 04:58:57--  https://storage.googleapis.com/laurencemoroney-blog.appspot.com/training_cleaned.csv\n",
            "Resolving storage.googleapis.com (storage.googleapis.com)... 74.125.204.128, 2404:6800:4008:c04::80\n",
            "Connecting to storage.googleapis.com (storage.googleapis.com)|74.125.204.128|:443... connected.\n",
            "HTTP request sent, awaiting response... 200 OK\n",
            "Length: 238942690 (228M) [application/octet-stream]\n",
            "Saving to: ‘/tmp/training_cleaned.csv’\n",
            "\n",
            "/tmp/training_clean 100%[===================>] 227.87M   159MB/s    in 1.4s    \n",
            "\n",
            "2020-06-12 04:58:59 (159 MB/s) - ‘/tmp/training_cleaned.csv’ saved [238942690/238942690]\n",
            "\n"
          ],
          "name": "stdout"
        }
      ]
    },
    {
      "cell_type": "code",
      "metadata": {
        "colab_type": "code",
        "id": "3kxblBUjEUX-",
        "outputId": "c6857bdd-c71d-4765-8037-ab0870e24bcd",
        "colab": {
          "base_uri": "https://localhost:8080/",
          "height": 67
        }
      },
      "source": [
        "print(num_sentences)\n",
        "print(len(corpus))\n",
        "print(corpus[1])\n",
        "\n",
        "# Expected Output:\n",
        "# 1600000\n",
        "# 1600000\n",
        "# [\"is upset that he can't update his Facebook by texting it... and might cry as a result  School today also. Blah!\", 0]"
      ],
      "execution_count": 11,
      "outputs": [
        {
          "output_type": "stream",
          "text": [
            "1600000\n",
            "1600000\n",
            "[\"is upset that he can't update his Facebook by texting it... and might cry as a result  School today also. Blah!\", 0]\n"
          ],
          "name": "stdout"
        }
      ]
    },
    {
      "cell_type": "code",
      "metadata": {
        "colab_type": "code",
        "id": "ohOGz24lsNAD",
        "colab": {}
      },
      "source": [
        "sentences=[]\n",
        "labels=[]\n",
        "random.shuffle(corpus)\n",
        "for x in range(training_size):\n",
        "    sentences.append(corpus[x][0])\n",
        "    labels.append(corpus[x][1])\n",
        "\n",
        "\n",
        "tokenizer = Tokenizer()\n",
        "tokenizer.fit_on_texts(sentences)\n",
        "\n",
        "word_index = tokenizer.word_index\n",
        "vocab_size=len(word_index)\n",
        "\n",
        "sequences = tokenizer.texts_to_sequences(sentences)\n",
        "padded = pad_sequences(sequences, maxlen=max_length, padding=padding_type, truncating=trunc_type)\n",
        "\n",
        "split = int(test_portion * training_size)\n",
        "\n",
        "test_sequences = np.array(padded[0:split])\n",
        "training_sequences = np.array(padded[split:training_size])\n",
        "test_labels = np.array(labels[0:split])\n",
        "training_labels = np.array(labels[split:training_size])"
      ],
      "execution_count": 0,
      "outputs": []
    },
    {
      "cell_type": "code",
      "metadata": {
        "colab_type": "code",
        "id": "gIrtRem1En3N",
        "outputId": "2fba849c-e971-4b0e-9c2e-b55c5ef5b5e4",
        "colab": {
          "base_uri": "https://localhost:8080/",
          "height": 50
        }
      },
      "source": [
        "print(vocab_size)\n",
        "print(word_index['i'])\n",
        "# Expected Output\n",
        "# 138858\n",
        "# 1"
      ],
      "execution_count": 13,
      "outputs": [
        {
          "output_type": "stream",
          "text": [
            "139057\n",
            "1\n"
          ],
          "name": "stdout"
        }
      ]
    },
    {
      "cell_type": "code",
      "metadata": {
        "colab_type": "code",
        "id": "C1zdgJkusRh0",
        "outputId": "17c7f153-f121-4101-e154-d17964ec2e32",
        "colab": {
          "base_uri": "https://localhost:8080/",
          "height": 202
        }
      },
      "source": [
        "# Note this is the 100 dimension version of GloVe from Stanford\n",
        "# I unzipped and hosted it on my site to make this notebook easier\n",
        "!wget --no-check-certificate \\\n",
        "    https://storage.googleapis.com/laurencemoroney-blog.appspot.com/glove.6B.100d.txt \\\n",
        "    -O /tmp/glove.6B.100d.txt\n",
        "embeddings_index = {};\n",
        "with open('/tmp/glove.6B.100d.txt') as f:\n",
        "    for line in f:\n",
        "        values = line.split();\n",
        "        word = values[0];\n",
        "        coefs = np.asarray(values[1:], dtype='float32');\n",
        "        embeddings_index[word] = coefs;\n",
        "\n",
        "embeddings_matrix = np.zeros((vocab_size+1, embedding_dim));\n",
        "for word, i in word_index.items():\n",
        "    embedding_vector = embeddings_index.get(word);\n",
        "    if embedding_vector is not None:\n",
        "        embeddings_matrix[i] = embedding_vector;"
      ],
      "execution_count": 14,
      "outputs": [
        {
          "output_type": "stream",
          "text": [
            "--2020-06-12 04:59:16--  https://storage.googleapis.com/laurencemoroney-blog.appspot.com/glove.6B.100d.txt\n",
            "Resolving storage.googleapis.com (storage.googleapis.com)... 74.125.203.128, 2404:6800:4008:c01::80\n",
            "Connecting to storage.googleapis.com (storage.googleapis.com)|74.125.203.128|:443... connected.\n",
            "HTTP request sent, awaiting response... 200 OK\n",
            "Length: 347116733 (331M) [text/plain]\n",
            "Saving to: ‘/tmp/glove.6B.100d.txt’\n",
            "\n",
            "/tmp/glove.6B.100d. 100%[===================>] 331.04M   172MB/s    in 1.9s    \n",
            "\n",
            "2020-06-12 04:59:18 (172 MB/s) - ‘/tmp/glove.6B.100d.txt’ saved [347116733/347116733]\n",
            "\n"
          ],
          "name": "stdout"
        }
      ]
    },
    {
      "cell_type": "code",
      "metadata": {
        "colab_type": "code",
        "id": "71NLk_lpFLNt",
        "outputId": "6d61867f-8589-4cbe-8c67-3960d360cd73",
        "colab": {
          "base_uri": "https://localhost:8080/",
          "height": 34
        }
      },
      "source": [
        "print(len(embeddings_matrix))\n",
        "# Expected Output\n",
        "# 138859"
      ],
      "execution_count": 15,
      "outputs": [
        {
          "output_type": "stream",
          "text": [
            "139058\n"
          ],
          "name": "stdout"
        }
      ]
    },
    {
      "cell_type": "code",
      "metadata": {
        "colab_type": "code",
        "id": "iKKvbuEBOGFz",
        "colab": {
          "base_uri": "https://localhost:8080/",
          "height": 1000
        },
        "outputId": "d6fe9aeb-7f54-4acf-d156-eb2ba5e6d4b7"
      },
      "source": [
        "model = tf.keras.Sequential([\n",
        "    tf.keras.layers.Embedding(vocab_size+1, embedding_dim, input_length=max_length, weights=[embeddings_matrix], trainable=False),\n",
        "    tf.keras.layers.Dropout(0.2),\n",
        "    tf.keras.layers.Conv1D(64, 5, activation='relu'),\n",
        "    tf.keras.layers.MaxPooling1D(pool_size=4),\n",
        "    tf.keras.layers.LSTM(64),\n",
        "    tf.keras.layers.Dense(1, activation='sigmoid')\n",
        "])\n",
        "model.compile(loss='binary_crossentropy',optimizer='adam',metrics=['accuracy'])\n",
        "model.summary()\n",
        "\n",
        "num_epochs = 50\n",
        "history = model.fit(training_sequences, training_labels, epochs=num_epochs, validation_data=(test_sequences, test_labels), verbose=2)\n",
        "\n",
        "print(\"Training Complete\")\n"
      ],
      "execution_count": 16,
      "outputs": [
        {
          "output_type": "stream",
          "text": [
            "Model: \"sequential_1\"\n",
            "_________________________________________________________________\n",
            "Layer (type)                 Output Shape              Param #   \n",
            "=================================================================\n",
            "embedding_1 (Embedding)      (None, 16, 100)           13905800  \n",
            "_________________________________________________________________\n",
            "dropout_1 (Dropout)          (None, 16, 100)           0         \n",
            "_________________________________________________________________\n",
            "conv1d_1 (Conv1D)            (None, 12, 64)            32064     \n",
            "_________________________________________________________________\n",
            "max_pooling1d_1 (MaxPooling1 (None, 3, 64)             0         \n",
            "_________________________________________________________________\n",
            "lstm_1 (LSTM)                (None, 64)                33024     \n",
            "_________________________________________________________________\n",
            "dense_1 (Dense)              (None, 1)                 65        \n",
            "=================================================================\n",
            "Total params: 13,970,953\n",
            "Trainable params: 65,153\n",
            "Non-trainable params: 13,905,800\n",
            "_________________________________________________________________\n",
            "Epoch 1/50\n",
            "4500/4500 - 20s - loss: 0.5672 - accuracy: 0.7006 - val_loss: 0.5245 - val_accuracy: 0.7350\n",
            "Epoch 2/50\n",
            "4500/4500 - 20s - loss: 0.5271 - accuracy: 0.7332 - val_loss: 0.5112 - val_accuracy: 0.7472\n",
            "Epoch 3/50\n",
            "4500/4500 - 20s - loss: 0.5106 - accuracy: 0.7458 - val_loss: 0.5081 - val_accuracy: 0.7479\n",
            "Epoch 4/50\n",
            "4500/4500 - 20s - loss: 0.4988 - accuracy: 0.7520 - val_loss: 0.5025 - val_accuracy: 0.7529\n",
            "Epoch 5/50\n",
            "4500/4500 - 21s - loss: 0.4896 - accuracy: 0.7597 - val_loss: 0.4966 - val_accuracy: 0.7564\n",
            "Epoch 6/50\n",
            "4500/4500 - 20s - loss: 0.4834 - accuracy: 0.7620 - val_loss: 0.4952 - val_accuracy: 0.7593\n",
            "Epoch 7/50\n",
            "4500/4500 - 20s - loss: 0.4775 - accuracy: 0.7673 - val_loss: 0.5068 - val_accuracy: 0.7504\n",
            "Epoch 8/50\n",
            "4500/4500 - 20s - loss: 0.4720 - accuracy: 0.7705 - val_loss: 0.5032 - val_accuracy: 0.7541\n",
            "Epoch 9/50\n",
            "4500/4500 - 20s - loss: 0.4689 - accuracy: 0.7717 - val_loss: 0.4952 - val_accuracy: 0.7588\n",
            "Epoch 10/50\n",
            "4500/4500 - 20s - loss: 0.4650 - accuracy: 0.7744 - val_loss: 0.4917 - val_accuracy: 0.7586\n",
            "Epoch 11/50\n",
            "4500/4500 - 20s - loss: 0.4607 - accuracy: 0.7774 - val_loss: 0.5015 - val_accuracy: 0.7587\n",
            "Epoch 12/50\n",
            "4500/4500 - 20s - loss: 0.4581 - accuracy: 0.7784 - val_loss: 0.4991 - val_accuracy: 0.7569\n",
            "Epoch 13/50\n",
            "4500/4500 - 20s - loss: 0.4552 - accuracy: 0.7803 - val_loss: 0.5042 - val_accuracy: 0.7547\n",
            "Epoch 14/50\n",
            "4500/4500 - 20s - loss: 0.4524 - accuracy: 0.7822 - val_loss: 0.4979 - val_accuracy: 0.7556\n",
            "Epoch 15/50\n",
            "4500/4500 - 20s - loss: 0.4508 - accuracy: 0.7827 - val_loss: 0.5012 - val_accuracy: 0.7582\n",
            "Epoch 16/50\n",
            "4500/4500 - 20s - loss: 0.4485 - accuracy: 0.7844 - val_loss: 0.5022 - val_accuracy: 0.7558\n",
            "Epoch 17/50\n",
            "4500/4500 - 20s - loss: 0.4462 - accuracy: 0.7847 - val_loss: 0.5157 - val_accuracy: 0.7517\n",
            "Epoch 18/50\n",
            "4500/4500 - 20s - loss: 0.4459 - accuracy: 0.7854 - val_loss: 0.5018 - val_accuracy: 0.7599\n",
            "Epoch 19/50\n",
            "4500/4500 - 20s - loss: 0.4440 - accuracy: 0.7856 - val_loss: 0.5059 - val_accuracy: 0.7560\n",
            "Epoch 20/50\n",
            "4500/4500 - 21s - loss: 0.4433 - accuracy: 0.7877 - val_loss: 0.5006 - val_accuracy: 0.7563\n",
            "Epoch 21/50\n",
            "4500/4500 - 20s - loss: 0.4417 - accuracy: 0.7882 - val_loss: 0.5121 - val_accuracy: 0.7581\n",
            "Epoch 22/50\n",
            "4500/4500 - 20s - loss: 0.4405 - accuracy: 0.7889 - val_loss: 0.5056 - val_accuracy: 0.7548\n",
            "Epoch 23/50\n",
            "4500/4500 - 20s - loss: 0.4386 - accuracy: 0.7898 - val_loss: 0.5049 - val_accuracy: 0.7571\n",
            "Epoch 24/50\n",
            "4500/4500 - 20s - loss: 0.4383 - accuracy: 0.7910 - val_loss: 0.5025 - val_accuracy: 0.7561\n",
            "Epoch 25/50\n",
            "4500/4500 - 20s - loss: 0.4369 - accuracy: 0.7909 - val_loss: 0.5043 - val_accuracy: 0.7584\n",
            "Epoch 26/50\n",
            "4500/4500 - 20s - loss: 0.4363 - accuracy: 0.7908 - val_loss: 0.5111 - val_accuracy: 0.7534\n",
            "Epoch 27/50\n",
            "4500/4500 - 20s - loss: 0.4363 - accuracy: 0.7903 - val_loss: 0.5066 - val_accuracy: 0.7548\n",
            "Epoch 28/50\n",
            "4500/4500 - 20s - loss: 0.4344 - accuracy: 0.7924 - val_loss: 0.5079 - val_accuracy: 0.7554\n",
            "Epoch 29/50\n",
            "4500/4500 - 20s - loss: 0.4340 - accuracy: 0.7922 - val_loss: 0.5081 - val_accuracy: 0.7559\n",
            "Epoch 30/50\n",
            "4500/4500 - 20s - loss: 0.4333 - accuracy: 0.7938 - val_loss: 0.5129 - val_accuracy: 0.7552\n",
            "Epoch 31/50\n",
            "4500/4500 - 20s - loss: 0.4332 - accuracy: 0.7936 - val_loss: 0.5076 - val_accuracy: 0.7606\n",
            "Epoch 32/50\n",
            "4500/4500 - 20s - loss: 0.4331 - accuracy: 0.7937 - val_loss: 0.5103 - val_accuracy: 0.7542\n",
            "Epoch 33/50\n",
            "4500/4500 - 20s - loss: 0.4312 - accuracy: 0.7936 - val_loss: 0.5084 - val_accuracy: 0.7538\n",
            "Epoch 34/50\n",
            "4500/4500 - 20s - loss: 0.4327 - accuracy: 0.7931 - val_loss: 0.5100 - val_accuracy: 0.7561\n",
            "Epoch 35/50\n",
            "4500/4500 - 20s - loss: 0.4316 - accuracy: 0.7942 - val_loss: 0.5088 - val_accuracy: 0.7548\n",
            "Epoch 36/50\n",
            "4500/4500 - 21s - loss: 0.4302 - accuracy: 0.7950 - val_loss: 0.5094 - val_accuracy: 0.7521\n",
            "Epoch 37/50\n",
            "4500/4500 - 20s - loss: 0.4312 - accuracy: 0.7945 - val_loss: 0.5110 - val_accuracy: 0.7544\n",
            "Epoch 38/50\n",
            "4500/4500 - 20s - loss: 0.4308 - accuracy: 0.7947 - val_loss: 0.5166 - val_accuracy: 0.7521\n",
            "Epoch 39/50\n",
            "4500/4500 - 20s - loss: 0.4296 - accuracy: 0.7953 - val_loss: 0.5069 - val_accuracy: 0.7563\n",
            "Epoch 40/50\n",
            "4500/4500 - 20s - loss: 0.4287 - accuracy: 0.7963 - val_loss: 0.5048 - val_accuracy: 0.7558\n",
            "Epoch 41/50\n",
            "4500/4500 - 20s - loss: 0.4304 - accuracy: 0.7958 - val_loss: 0.5113 - val_accuracy: 0.7546\n",
            "Epoch 42/50\n",
            "4500/4500 - 20s - loss: 0.4264 - accuracy: 0.7970 - val_loss: 0.5083 - val_accuracy: 0.7557\n",
            "Epoch 43/50\n",
            "4500/4500 - 20s - loss: 0.4289 - accuracy: 0.7954 - val_loss: 0.5119 - val_accuracy: 0.7526\n",
            "Epoch 44/50\n",
            "4500/4500 - 20s - loss: 0.4288 - accuracy: 0.7960 - val_loss: 0.5118 - val_accuracy: 0.7571\n",
            "Epoch 45/50\n",
            "4500/4500 - 20s - loss: 0.4268 - accuracy: 0.7972 - val_loss: 0.5123 - val_accuracy: 0.7554\n",
            "Epoch 46/50\n",
            "4500/4500 - 20s - loss: 0.4270 - accuracy: 0.7969 - val_loss: 0.5128 - val_accuracy: 0.7556\n",
            "Epoch 47/50\n",
            "4500/4500 - 20s - loss: 0.4278 - accuracy: 0.7961 - val_loss: 0.5113 - val_accuracy: 0.7533\n",
            "Epoch 48/50\n",
            "4500/4500 - 20s - loss: 0.4280 - accuracy: 0.7960 - val_loss: 0.5144 - val_accuracy: 0.7526\n",
            "Epoch 49/50\n",
            "4500/4500 - 19s - loss: 0.4273 - accuracy: 0.7960 - val_loss: 0.5151 - val_accuracy: 0.7517\n",
            "Epoch 50/50\n",
            "4500/4500 - 20s - loss: 0.4262 - accuracy: 0.7981 - val_loss: 0.5108 - val_accuracy: 0.7521\n",
            "Training Complete\n"
          ],
          "name": "stdout"
        }
      ]
    },
    {
      "cell_type": "code",
      "metadata": {
        "colab_type": "code",
        "id": "qxju4ItJKO8F",
        "colab": {
          "base_uri": "https://localhost:8080/",
          "height": 606
        },
        "outputId": "aff4552a-fbcb-48ad-e52f-193f3af03e98"
      },
      "source": [
        "import matplotlib.image  as mpimg\n",
        "import matplotlib.pyplot as plt\n",
        "\n",
        "#-----------------------------------------------------------\n",
        "# Retrieve a list of list results on training and test data\n",
        "# sets for each training epoch\n",
        "#-----------------------------------------------------------\n",
        "acc=history.history['accuracy']\n",
        "val_acc=history.history['val_accuracy']\n",
        "loss=history.history['loss']\n",
        "val_loss=history.history['val_loss']\n",
        "\n",
        "epochs=range(len(acc)) # Get number of epochs\n",
        "\n",
        "#------------------------------------------------\n",
        "# Plot training and validation accuracy per epoch\n",
        "#------------------------------------------------\n",
        "plt.plot(epochs, acc, 'r')\n",
        "plt.plot(epochs, val_acc, 'b')\n",
        "plt.title('Training and validation accuracy')\n",
        "plt.xlabel(\"Epochs\")\n",
        "plt.ylabel(\"Accuracy\")\n",
        "plt.legend([\"Accuracy\", \"Validation Accuracy\"])\n",
        "\n",
        "plt.figure()\n",
        "\n",
        "#------------------------------------------------\n",
        "# Plot training and validation loss per epoch\n",
        "#------------------------------------------------\n",
        "plt.plot(epochs, loss, 'r')\n",
        "plt.plot(epochs, val_loss, 'b')\n",
        "plt.title('Training and validation loss')\n",
        "plt.xlabel(\"Epochs\")\n",
        "plt.ylabel(\"Loss\")\n",
        "plt.legend([\"Loss\", \"Validation Loss\"])\n",
        "\n",
        "plt.figure()\n",
        "\n",
        "\n",
        "# Expected Output\n",
        "# A chart where the validation loss does not increase sharply!"
      ],
      "execution_count": 17,
      "outputs": [
        {
          "output_type": "execute_result",
          "data": {
            "text/plain": [
              "<Figure size 432x288 with 0 Axes>"
            ]
          },
          "metadata": {
            "tags": []
          },
          "execution_count": 17
        },
        {
          "output_type": "display_data",
          "data": {
            "image/png": "[encoded data removed]",
            "text/plain": [
              "<Figure size 432x288 with 1 Axes>"
            ]
          },
          "metadata": {
            "tags": [],
            "needs_background": "light"
          }
        },
        {
          "output_type": "display_data",
          "data": {
            "image/png": "[encoded data removed]",
            "text/plain": [
              "<Figure size 432x288 with 1 Axes>"
            ]
          },
          "metadata": {
            "tags": [],
            "needs_background": "light"
          }
        },
        {
          "output_type": "display_data",
          "data": {
            "text/plain": [
              "<Figure size 432x288 with 0 Axes>"
            ]
          },
          "metadata": {
            "tags": []
          }
        }
      ]
    }
  ]
}